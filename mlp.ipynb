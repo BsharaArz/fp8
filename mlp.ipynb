{
  "nbformat": 4,
  "nbformat_minor": 0,
  "metadata": {
    "colab": {
      "provenance": [],
      "authorship_tag": "ABX9TyP1jkA3npzZSbVR427uUz0S",
      "include_colab_link": true
    },
    "kernelspec": {
      "name": "python3",
      "display_name": "Python 3"
    },
    "language_info": {
      "name": "python"
    }
  },
  "cells": [
    {
      "cell_type": "markdown",
      "metadata": {
        "id": "view-in-github",
        "colab_type": "text"
      },
      "source": [
        "<a href=\"https://colab.research.google.com/github/BsharaArz/fp8/blob/exercise/mlp.ipynb\" target=\"_parent\"><img src=\"https://colab.research.google.com/assets/colab-badge.svg\" alt=\"Open In Colab\"/></a>"
      ]
    },
    {
      "cell_type": "code",
      "execution_count": null,
      "metadata": {
        "id": "XINv5drWCxBS"
      },
      "outputs": [],
      "source": [
        "from jax import numpy as jnp\n",
        "import jax\n",
        "from typing_extensions import NamedTuple"
      ]
    },
    {
      "cell_type": "code",
      "source": [
        "class MLP(NamedTuple):\n",
        "  # whatever parameters you need - usually the up projection and down projection\n",
        "\n",
        "  def init_mlp(self, prng_key: jax.Array, d_model: int, d_ff: int):\n",
        "    self.prng_key = prng_key\n",
        "    self.d_model = d_model\n",
        "    self.d_ff = d_ff\n",
        "    self.dtype = jnp.float32\n",
        "\n",
        "    #initialize params\n",
        "    initializer = jax.nn.initializers.normal(0.01) #stan-dev = 0.01\n",
        "    self.parameters = [[initializer(prng_key, (d_ff,d_model), self.dtype), initializer(prng_key, (d_ff, d_model), self.dtype)], [initializer(prng_key, (d_model, d_ff), self.dtype), initializer(prng_key, (d_model, d_model), self.dtype)]]\n",
        "    return self\n",
        "    # initialize the parameters and return an instance of MLP\n",
        "\n",
        "  def forward_mlp(self, seq: jax.Array):\n",
        "    params = self.parameters\n",
        "    # seq is Sequence - input to the MLP block.\n",
        "    # seq is of shape (batch_size, sequence_length, d_model)\n",
        "    batch_size, sequence_length, d_model = seq.shape\n",
        "\n",
        "    # Do the necessary matrix multiplications and return the transformer sequence\n",
        "    activations = seq.reshape(batch_size * sequence_length, d_model)\n",
        "    for w, b in params[:-1]:\n",
        "      activations = jax.nn.relu(jnp.dot(w, activations) + b)\n",
        "\n",
        "    final_w, final_b = params[-1]\n",
        "    logits = jnp.dot(final_w, activations) + final_b\n",
        "\n",
        "    #softmax at end\n",
        "    final = jax.nn.softmax(logits)\n",
        "    return final.reshape(batch_size, sequence_length, d_model)\n",
        "\n",
        "\n",
        "\n",
        "  def test_mlp():\n",
        "    prng_key = jax.random.PRNGKey(0)\n",
        "    d_model = 512\n",
        "    d_ff = 2048\n",
        "\n",
        "    batch_size = 32\n",
        "    sequence_length = 16\n",
        "\n",
        "    initializer = jax.nn.initializers.normal(0.01)\n",
        "    seq = initializer(prng_key, (batch_size, sequence_length, d_model), jnp.float32)\n",
        "\n",
        "    print('input shape: ')\n",
        "    print(seq.shape)\n",
        "\n",
        "    mlp = MLP.init_mlp(MLP, prng_key, d_model, d_ff)\n",
        "    output = mlp.forward_mlp(mlp, seq)\n",
        "    print('output shape: ')\n",
        "    print(output.shape)\n",
        "\n",
        "    # Create a random tensor for sequence\n",
        "    # Create the MLP using init_mlp\n",
        "    # Pass the sequence through the MLP using forward_mlp and capture the output\n",
        "    # Assert that the output if of the correct shape\n",
        "\n",
        "  def main():\n",
        "    return MLP.test_mlp()"
      ],
      "metadata": {
        "id": "IUMPdeBzC-mW"
      },
      "execution_count": null,
      "outputs": []
    },
    {
      "cell_type": "code",
      "source": [
        "MLP.main()"
      ],
      "metadata": {
        "colab": {
          "base_uri": "https://localhost:8080/"
        },
        "id": "5v5dLNXuZ2RQ",
        "outputId": "d15ef332-794a-4348-eae1-e2f5ea758b7d"
      },
      "execution_count": null,
      "outputs": [
        {
          "output_type": "stream",
          "name": "stdout",
          "text": [
            "input shape: \n",
            "(32, 16, 512)\n",
            "output shape: \n",
            "(32, 16, 512)\n"
          ]
        }
      ]
    }
  ]
}